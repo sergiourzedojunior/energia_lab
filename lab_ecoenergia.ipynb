{
 "cells": [
  {
   "cell_type": "code",
   "execution_count": 9,
   "metadata": {},
   "outputs": [],
   "source": [
    "import pandas as pd\n",
    "import urllib.request\n",
    "import json\n",
    "from geopy.geocoders import Nominatim\n",
    "from geopy.exc import GeocoderTimedOut, GeocoderUnavailable\n",
    "import time\n",
    "import numpy as np  \n",
    "import folium\n"
   ]
  },
  {
   "cell_type": "code",
   "execution_count": 10,
   "metadata": {},
   "outputs": [],
   "source": [
    "path = r\"D:\\OneDrive\\energia_lab\\data\\\\\""
   ]
  },
  {
   "cell_type": "code",
   "execution_count": 11,
   "metadata": {},
   "outputs": [],
   "source": [
    "url = 'https://dadosabertos.aneel.gov.br/dataset/f9336ee6-7562-4c92-880a-d7217df6cc94/resource/28686698-544b-48e2-af58-ad4f7616246c/download/projetos-eficiencia-energetica-empresa.csv'\n",
    "df = pd.read_csv(url, encoding='ISO-8859-1', sep=';', on_bad_lines='skip', header=0)"
   ]
  },
  {
   "cell_type": "code",
   "execution_count": 12,
   "metadata": {},
   "outputs": [],
   "source": [
    "df['DatGeracaoConjuntoDados'] = pd.to_datetime(df['DatGeracaoConjuntoDados'])\n",
    "df['DatInicioProjeto'] = pd.to_datetime(df['DatInicioProjeto'])\n",
    "df['DatConclusaoProjeto'] = pd.to_datetime(df['DatConclusaoProjeto'])"
   ]
  },
  {
   "cell_type": "code",
   "execution_count": 13,
   "metadata": {},
   "outputs": [],
   "source": [
    "df['VlrRetiradaDemandaPontaTotal'] = df['VlrRetiradaDemandaPontaTotal'].str.replace(',', '.').astype(float)\n",
    "df['VlrRcbGlobal'] = df['VlrRcbGlobal'].str.replace(',', '.').astype(float)\n",
    "df['VlrEnergiaEconomizadaTotal'] = df['VlrEnergiaEconomizadaTotal'].str.replace(',', '.').astype(float)\n",
    "df['VlrCustoTotal'] = df['VlrCustoTotal'].str.replace(',', '.').astype(float)"
   ]
  },
  {
   "cell_type": "code",
   "execution_count": 14,
   "metadata": {},
   "outputs": [],
   "source": [
    "# Define a small epsilon value to prevent division by zero\n",
    "epsilon = 0.01\n",
    "\n",
    "# Recalculate the score with epsilon added to the denominator to avoid division by zero\n",
    "df['Score'] = (df['VlrEnergiaEconomizadaTotal'] + df['VlrRetiradaDemandaPontaTotal']) / (df['VlrCustoTotal'] + epsilon)"
   ]
  },
  {
   "cell_type": "code",
   "execution_count": 16,
   "metadata": {},
   "outputs": [],
   "source": [
    "# Drop rows where 'Score' is null\n",
    "df = df.dropna(subset=['Score'])"
   ]
  },
  {
   "cell_type": "code",
   "execution_count": 18,
   "metadata": {},
   "outputs": [],
   "source": [
    "# Sort df by 'Score' in descending order\n",
    "df = df.sort_values('Score', ascending=False)"
   ]
  },
  {
   "cell_type": "code",
   "execution_count": 38,
   "metadata": {},
   "outputs": [],
   "source": [
    "# Calculate the 50th percentile of 'Score'\n",
    "score_95th_percentile = df['Score'].quantile(0.95)\n",
    "\n",
    "# Filter df to only include rows where 'Score' is above the 50th percentile\n",
    "df_above_95 = df[df['Score'] > score_95th_percentile]"
   ]
  },
  {
   "cell_type": "code",
   "execution_count": 46,
   "metadata": {},
   "outputs": [],
   "source": [
    "df = df_above_95"
   ]
  },
  {
   "cell_type": "code",
   "execution_count": 47,
   "metadata": {},
   "outputs": [],
   "source": [
    "# Rescale 'Score' to range from 1 to 10\n",
    "df['Score'] = 1 + (df['Score'] - df['Score'].min()) * (10 - 1) / (df['Score'].max() - df['Score'].min())"
   ]
  },
  {
   "cell_type": "code",
   "execution_count": 50,
   "metadata": {},
   "outputs": [],
   "source": [
    "df['NomAgente'] = df['NomAgente'].str.upper()"
   ]
  },
  {
   "cell_type": "code",
   "execution_count": 52,
   "metadata": {},
   "outputs": [],
   "source": [
    "# Instanciando o geocodificador com um timeout maior\n",
    "geolocator = Nominatim(user_agent=\"unique_user_agent\", timeout=10)\n",
    "\n",
    "# Função para obter endereço e coordenadas com retry\n",
    "def get_location(name, cache):\n",
    "    retries = 3\n",
    "    for _ in range(retries):\n",
    "        if name in cache:\n",
    "            return cache[name]\n",
    "        try:\n",
    "            location = geolocator.geocode(name)\n",
    "            if location:\n",
    "                result = (location.address, location.latitude, location.longitude)\n",
    "            else:\n",
    "                result = (None, None, None)\n",
    "            cache[name] = result\n",
    "            return result\n",
    "        except (GeocoderTimedOut, GeocoderUnavailable) as e:\n",
    "            print(f\"Retry for {name} due to error: {str(e)}\")\n",
    "            time.sleep(5)  # Espera antes de tentar novamente\n",
    "    return None, None, None\n",
    "\n",
    "# Função para processar os nomes únicos e preencher as informações de localização\n",
    "def process_names(names, delay=2):\n",
    "    location_cache = {}\n",
    "    results = {'address': [], 'latitude': [], 'longitude': []}\n",
    "    for name in names:\n",
    "        address, lat, lon = get_location(name, location_cache)\n",
    "        results['address'].append(address)\n",
    "        results['latitude'].append(lat)\n",
    "        results['longitude'].append(lon)\n",
    "        time.sleep(delay)  # Delay para respeitar os limites da API\n",
    "    return results, location_cache\n",
    "\n",
    "# Extrair nomes únicos de agentes\n",
    "nomes_unicos = df['NomAgente'].unique()\n",
    "\n",
    "# Processar os nomes para obter as informações de localização\n",
    "location_results, cache = process_names(nomes_unicos)\n",
    "\n",
    "# Adicionando os resultados ao DataFrame\n",
    "df['Address'] = df['NomAgente'].map({name: addr for name, (addr, _, _) in cache.items()})\n",
    "df['Latitude'] = df['NomAgente'].map({name: lat for name, (_, lat, _) in cache.items()})\n",
    "df['Longitude'] = df['NomAgente'].map({name: lon for name, (_, _, lon) in cache.items()})"
   ]
  },
  {
   "cell_type": "code",
   "execution_count": 53,
   "metadata": {},
   "outputs": [
    {
     "name": "stdout",
     "output_type": "stream",
     "text": [
      "<class 'pandas.core.frame.DataFrame'>\n",
      "Index: 212 entries, 5827 to 6037\n",
      "Data columns (total 19 columns):\n",
      " #   Column                        Non-Null Count  Dtype         \n",
      "---  ------                        --------------  -----         \n",
      " 0   DatGeracaoConjuntoDados       212 non-null    datetime64[ns]\n",
      " 1   NomAgente                     212 non-null    object        \n",
      " 2   IdeEmpresaProponenteProjeto   212 non-null    int64         \n",
      " 3   DscCodProjeto                 212 non-null    object        \n",
      " 4   DscTituloProjeto              212 non-null    object        \n",
      " 5   DscTipologia                  212 non-null    object        \n",
      " 6   VlrCustoTotal                 212 non-null    float64       \n",
      " 7   VlrRcbGlobal                  211 non-null    float64       \n",
      " 8   VlrEnergiaEconomizadaTotal    212 non-null    float64       \n",
      " 9   VlrRetiradaDemandaPontaTotal  212 non-null    float64       \n",
      " 10  DscObjetivo                   209 non-null    object        \n",
      " 11  DscJustificativa              160 non-null    object        \n",
      " 12  DatInicioProjeto              212 non-null    datetime64[ns]\n",
      " 13  DatConclusaoProjeto           212 non-null    datetime64[ns]\n",
      " 14  DscMetodologiaMv              153 non-null    object        \n",
      " 15  Score                         212 non-null    float64       \n",
      " 16  Address                       93 non-null     object        \n",
      " 17  Latitude                      93 non-null     float64       \n",
      " 18  Longitude                     93 non-null     float64       \n",
      "dtypes: datetime64[ns](3), float64(7), int64(1), object(8)\n",
      "memory usage: 33.1+ KB\n"
     ]
    }
   ],
   "source": [
    "df.info()"
   ]
  },
  {
   "cell_type": "code",
   "execution_count": 57,
   "metadata": {},
   "outputs": [
    {
     "name": "stdout",
     "output_type": "stream",
     "text": [
      "NomAgente\n",
      "COPEL DISTRIBUIÇÃO S.A                                         33\n",
      "COMPANHIA PAULISTA DE FORÇA E LUZ                              16\n",
      "CEMIG DISTRIBUIÇÃO S.A.                                        13\n",
      "CELESC DISTRIBUIÇÃO S.A.                                       11\n",
      "ENERGISA SUL-SUDESTE DISTRIBUIDORA DE ENERGIA S.A.              9\n",
      "ELEKTRO REDES S.A.                                              8\n",
      "COMPANHIA PIRATININGA DE FORÇA E LUZ                            8\n",
      "RGE SUL DISTRIBUIDORA DE ENERGIA S.A.                           7\n",
      "ENERGISA MATO GROSSO DISTRIBUIDORA DE ENERGIA S A               7\n",
      "CEB DISTRIBUIÇÃO SA                                             6\n",
      "CELESC DISTRIBUIÇÃO S.A                                         6\n",
      "CENTRAIS ELETRICAS DO PARA                                      5\n",
      "CENTRAIS ELÉTRICAS DE RONDÔNIA S.A   CERON                      4\n",
      "COMPANHIA PAULISTA DE FORA E LUZ                                4\n",
      "ENERGISA MATO GROSSO DO SUL - DISTRIBUIDORA DE ENERGIA S.A.     4\n",
      "ELEKTRO REDES S.A                                               4\n",
      "EDP ESPIRITO SANTO DISTRIBUIDORA DE ENERGIA S/A                 4\n",
      "CEB DISTRIBUIÇÃO S/A                                            3\n",
      "ENERGISA SERGIPE DISTRIBUIDORA DE ENERGIA S.A                   3\n",
      "NEOENERGIA DISTRIBUIÇÃO BRASÍLIA S.A                            3\n",
      "CELESC DISTRIBUIÇÃO S/A                                         3\n",
      "RIO GRANDE ENERGIA S/A                                          2\n",
      "ENERGISA TOCANTINS DISTRIBUIDORA DE ENERGIA S.A.                2\n",
      "PROPONENTE                                                      2\n",
      "ENERGISA PARABA DISTRIBUIDORA DE ENERGIA S.A.                   2\n",
      "COMPANHIA ENERGETICA DE ALAGOAS                                 2\n",
      "COMPANHIA DE ELETRICIDADE DO ESTADO DA BAHIA                    2\n",
      "COMPANHIA JAGUARI DE ENERGIA ELTRICA                            2\n",
      "CEB DISTRIBUIÇÃO AS                                             2\n",
      "ENERGISA PARABA DISTRIBUIDORA DE ENERGIA S.A                    2\n",
      "ENERGISA MATO GROSSO DISTRIBUIDORA DE ENERGIA S/A               1\n",
      "CENTRAIS ELÉTRICAS DE RONDÔNIA S.A - CERON                      1\n",
      "EDP SÃO PAULO DISTRIBUIÇÃO DE ENERGIA S/A                       1\n",
      "ENERGISA MINAS GERAIS -DISTRIBUIDORA DE ENERGIA S. A.           1\n",
      "ENEL DISTRIBUICAO SAO PAULO                                     1\n",
      "CEB DISTRIBUIÇÃO                                                1\n",
      "COMPANHIA ENERGÉTICA DE ALAGOAS                                 1\n",
      "COMPANHIA DE ELETRICIDADE DO ACRE                               1\n",
      "ENEL DISTRIBUIÇÃO GOIÁS                                         1\n",
      "COMPANHIA PIRATININGA DE FORA E LUZ                             1\n",
      "ELEKTRO - ELETRICIDADE E SERVIÇOS S/A                           1\n",
      "CENTRAIS ELTRICAS DE RONDNIA S.A   CERON                        1\n",
      "ENERGISA PARAÃBA DISTRIBUIDORA DE ENERGIA S.A.                  1\n",
      "ENERGISA SUL SUDESTE DISTRIBUIDORA DE ENERGIA S.A               1\n",
      "ENERGISA SUL-SUDESTE DISTRIBUIÇÃO DE ENERGIA S.A.               1\n",
      "CEB DISTRIBUIÇÃO S.A.                                           1\n",
      "ENERGISA ACRE DISTRIBUIDORA DE ENERGIA S.A.                     1\n",
      "CENTRAIS ELETRICAS DO PARA S/A                                  1\n",
      "EDP SÃO PAULO DISTRIBUIÇÃO DE ENERGIA S.A                       1\n",
      "ENERGISA PARAÍBA DISTRIBUIDORA DE ENERGIA S.A.                  1\n",
      "ENERGISA MATO GROSSO DISTRIBUIDORA DE ENERGIA S.A               1\n",
      "ELETROPAULO METROPOLITANA ELETRICIDADE DE SÃO PAULO S.A.        1\n",
      "COMPANHIA ENERGETICA DO PIAUÍ                                   1\n",
      "CEMIG DISTRIBUIÇÃO S.A                                          1\n",
      "COMPANHIA JAGUARI DE ENERGIA ELÉTRICA                           1\n",
      "ENERGISA SERGIPE DISTRIBUIDORA DE ENERGIA S.A.                  1\n",
      "COMPANHIA ENERGETICA DE PERNAMBUCO                              1\n",
      "EQUATORIAL ENERGIA GOIAS                                        1\n",
      "ENERGISA MINAS GERAIS DISTRIBUIDORA DE ENERGIA S.A              1\n",
      "ENERGISA TOCANTINS DISTRIBUIDORA DE ENERGIA SA                  1\n",
      "CPFL SANTA CRUZ                                                 1\n",
      "CELESC DISTRIBUIO S.A.                                          1\n",
      "IGUAÇU DISTRIB. DE ENERGIA ELÉTRICA LTDA - INERGIA              1\n",
      "Name: count, dtype: int64\n"
     ]
    }
   ],
   "source": [
    "# Set pandas display options\n",
    "pd.set_option('display.max_rows', None)\n",
    "\n",
    "# Display value counts for 'NomAgente'\n",
    "print(df['NomAgente'].value_counts(dropna=False))"
   ]
  },
  {
   "cell_type": "code",
   "execution_count": 61,
   "metadata": {},
   "outputs": [
    {
     "data": {
      "text/plain": [
       "Address\n",
       "None                                                                                                                                                                                                                                                                                       119\n",
       "Copel Distribuição S.A., Rua Vicente Machado, Guarapuava, Região Geográfica Imediata de Guarapuava, Região Geográfica Intermediária de Guarapuava, Paraná, Região Sul, 85010-050, Brasil                                                                                                    33\n",
       "Celesc Distribuição S.A., 2987, Jardim América, Chapecó, Região Geográfica Imediata de Chapecó, Região Geográfica Intermediária de Chapecó, Santa Catarina, Região Sul, 89803-903, Brasil                                                                                                   20\n",
       "Companhia Paulista de Força e Luz, Avenida Sete de Setembro, Vila Pavani, Nova Granada, Região Imediata de São José do Rio Preto, Região Metropolitana de São José do Rio Preto, Região Geográfica Intermediária de São José do Rio Preto, São Paulo, Região Sudeste, 15440-000, Brasil     16\n",
       "Tecnologia Avanzada en Redes. S.A, Carretera a San José Pinula, Condominio Cañadas del Pajon 2, Fraijanes, Santa Catarina Pinula, Departamento de Guatemala, 01052, Guatemala                                                                                                               12\n",
       "Centrais Elétricas do Pará, Alameda NS 10, Conjunto Jardim Maguari, Coqueiro, Belém, Região Geográfica Imediata de Belém, Região Geográfica Intermediária de Belém, Pará, Região Norte, 66823-077, Brasil                                                                                    5\n",
       "Companhia de Eletricidade do Estado da Bahia, Avenida Doutor Guilherme Dias, Ginásio Industrial, Brumado, Região Geográfica Intermediária de Vitória da Conquista, Bahia, Região Nordeste, 46100-970, Brasil                                                                                 2\n",
       "EA2 Bom Jesus - Rio Grande Energia S.A., Rua Machado de Assis, Vila Conceição, Bom Jesus, Região Geográfica Imediata de Vacaria, Região Geográfica Intermediária de Caxias do Sul, Rio Grande do Sul, Região Sul, Brasil                                                                     2\n",
       "Companhia Energética de Pernambuco, 111, Avenida João de Barros, Soledade, Recife, Região Geográfica Imediata do Recife, Região Metropolitana do Recife, Pernambuco, Região Nordeste, 50050-315, Brasil                                                                                      1\n",
       "CPFL Agencia de Araçoiaba da Serra, Rua Santo Antônio, Jardim Santa Cruz, Residencial Primavera, Araçoiaba da Serra, Região Imediata de Sorocaba, Região Metropolitana de Sorocaba, Região Geográfica Intermediária de Sorocaba, São Paulo, Região Sudeste, 18190-000, Brasil                1\n",
       "Elektro Eletricidade e Serviços S.A., Rua Brasília, Teodoro Sampaio, Região Imediata de Presidente Prudente, Região Geográfica Intermediária de Presidente Prudente, São Paulo, Região Sudeste, Brasil                                                                                       1\n",
       "Name: count, dtype: int64"
      ]
     },
     "execution_count": 61,
     "metadata": {},
     "output_type": "execute_result"
    }
   ],
   "source": [
    "df['Address'].value_counts(dropna=False)"
   ]
  },
  {
   "cell_type": "code",
   "execution_count": 62,
   "metadata": {},
   "outputs": [
    {
     "name": "stdout",
     "output_type": "stream",
     "text": [
      "Null count in 'Address': 119\n",
      "Null count in 'Latitude': 119\n",
      "Null count in 'Longitude': 119\n"
     ]
    }
   ],
   "source": [
    "# Count null values in 'Address', 'Latitude', and 'Longitude'\n",
    "address_null_count = df['Address'].isnull().sum()\n",
    "latitude_null_count = df['Latitude'].isnull().sum()\n",
    "longitude_null_count = df['Longitude'].isnull().sum()\n",
    "\n",
    "print(f\"Null count in 'Address': {address_null_count}\")\n",
    "print(f\"Null count in 'Latitude': {latitude_null_count}\")\n",
    "print(f\"Null count in 'Longitude': {longitude_null_count}\")"
   ]
  },
  {
   "cell_type": "code",
   "execution_count": null,
   "metadata": {},
   "outputs": [],
   "source": []
  },
  {
   "cell_type": "code",
   "execution_count": 59,
   "metadata": {},
   "outputs": [],
   "source": [
    "df.to_csv(path+'pee_filter_95.csv')"
   ]
  },
  {
   "cell_type": "code",
   "execution_count": null,
   "metadata": {},
   "outputs": [],
   "source": []
  },
  {
   "cell_type": "code",
   "execution_count": null,
   "metadata": {},
   "outputs": [],
   "source": []
  }
 ],
 "metadata": {
  "kernelspec": {
   "display_name": "base",
   "language": "python",
   "name": "python3"
  },
  "language_info": {
   "codemirror_mode": {
    "name": "ipython",
    "version": 3
   },
   "file_extension": ".py",
   "mimetype": "text/x-python",
   "name": "python",
   "nbconvert_exporter": "python",
   "pygments_lexer": "ipython3",
   "version": "3.11.7"
  }
 },
 "nbformat": 4,
 "nbformat_minor": 2
}
