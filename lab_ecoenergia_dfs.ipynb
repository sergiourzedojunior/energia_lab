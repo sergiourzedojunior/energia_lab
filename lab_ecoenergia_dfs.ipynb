{
 "cells": [
  {
   "cell_type": "code",
   "execution_count": 22,
   "metadata": {},
   "outputs": [],
   "source": [
    "import pandas as pd\n",
    "import urllib.request\n",
    "import json\n",
    "from geopy.geocoders import Nominatim\n",
    "from geopy.exc import GeocoderTimedOut, GeocoderUnavailable\n",
    "import time\n",
    "import numpy as np  \n",
    "import folium\n",
    "import re"
   ]
  },
  {
   "cell_type": "code",
   "execution_count": 23,
   "metadata": {},
   "outputs": [
    {
     "name": "stdout",
     "output_type": "stream",
     "text": [
      "<class 'pandas.core.frame.DataFrame'>\n",
      "RangeIndex: 3 entries, 0 to 2\n",
      "Data columns (total 22 columns):\n",
      " #   Column                        Non-Null Count  Dtype  \n",
      "---  ------                        --------------  -----  \n",
      " 0   Unnamed: 0                    3 non-null      int64  \n",
      " 1   DatGeracaoConjuntoDados       3 non-null      object \n",
      " 2   NomAgente                     3 non-null      object \n",
      " 3   IdeEmpresaProponenteProjeto   3 non-null      int64  \n",
      " 4   DscCodProjeto                 3 non-null      object \n",
      " 5   DscTituloProjeto              3 non-null      object \n",
      " 6   DscTipologia                  3 non-null      object \n",
      " 7   VlrCustoTotal                 3 non-null      float64\n",
      " 8   VlrRcbGlobal                  1 non-null      float64\n",
      " 9   VlrEnergiaEconomizadaTotal    3 non-null      float64\n",
      " 10  VlrRetiradaDemandaPontaTotal  3 non-null      float64\n",
      " 11  DscObjetivo                   0 non-null      float64\n",
      " 12  DscJustificativa              2 non-null      object \n",
      " 13  DatInicioProjeto              3 non-null      object \n",
      " 14  DatConclusaoProjeto           3 non-null      object \n",
      " 15  DscMetodologiaMv              0 non-null      float64\n",
      " 16  Score                         3 non-null      float64\n",
      " 17  Address                       3 non-null      object \n",
      " 18  Latitude                      3 non-null      float64\n",
      " 19  Longitude                     3 non-null      float64\n",
      " 20  Estado                        3 non-null      object \n",
      " 21  Capital                       0 non-null      float64\n",
      "dtypes: float64(10), int64(2), object(10)\n",
      "memory usage: 660.0+ bytes\n"
     ]
    }
   ],
   "source": [
    "# Load data\n",
    "path = \"D:\\\\OneDrive\\\\energia_lab\\\\data\\\\\"\n",
    "path1 = \"D:\\\\OneDrive\\\\energia_lab\\\\streamlit\\\\data_steamlit\\\\\"\n",
    "\n",
    "\n",
    "df = pd.read_csv(path + 'df_unidos.csv', nrows=3)\n",
    "df.info()\n"
   ]
  },
  {
   "cell_type": "code",
   "execution_count": 24,
   "metadata": {},
   "outputs": [],
   "source": [
    "# Read the CSV file\n",
    "date = pd.read_csv(path + 'df_unidos.csv', usecols=['DatInicioProjeto', 'DatConclusaoProjeto'], parse_dates=['DatInicioProjeto', 'DatConclusaoProjeto'])"
   ]
  },
  {
   "cell_type": "code",
   "execution_count": 25,
   "metadata": {},
   "outputs": [],
   "source": [
    "projeto1 = date['DatInicioProjeto'].min()\n",
    "df_projeto1 = pd.DataFrame([projeto1], columns=['DatInicioProjeto'])\n",
    "df_projeto1.to_csv(path1+'projeto1.csv', index=False)"
   ]
  },
  {
   "cell_type": "code",
   "execution_count": 26,
   "metadata": {},
   "outputs": [],
   "source": [
    "termino_ultimo_proj = date['DatConclusaoProjeto'].max()\n",
    "df_termino_ultimo_proj = pd.DataFrame([termino_ultimo_proj], columns=['DatConclusaoProjeto'])\n",
    "df_termino_ultimo_proj.to_csv(path1+'termino_ultimo_proj.csv', index=False)"
   ]
  },
  {
   "cell_type": "code",
   "execution_count": 27,
   "metadata": {},
   "outputs": [],
   "source": [
    "# Calculate the difference in years\n",
    "date['Duration_Years'] = (date['DatConclusaoProjeto'] - date['DatInicioProjeto']).dt.days / 365.25\n",
    "\n",
    "# Calculate the mean of 'Duration_Years'\n",
    "Duration_Years_projects_mean = date['Duration_Years'].mean()\n",
    "\n",
    "# Convert the mean value into a DataFrame\n",
    "df_Duration_Years_projects_mean = pd.DataFrame([Duration_Years_projects_mean], columns=['Duration_Years'])\n",
    "\n",
    "# Save the DataFrame to a .csv file\n",
    "df_Duration_Years_projects_mean.to_csv(path1+'Duration_Years_projects_mean.csv', index=False)"
   ]
  },
  {
   "cell_type": "code",
   "execution_count": null,
   "metadata": {},
   "outputs": [],
   "source": []
  },
  {
   "cell_type": "code",
   "execution_count": null,
   "metadata": {},
   "outputs": [],
   "source": []
  },
  {
   "cell_type": "code",
   "execution_count": null,
   "metadata": {},
   "outputs": [],
   "source": []
  },
  {
   "cell_type": "code",
   "execution_count": 65,
   "metadata": {},
   "outputs": [],
   "source": [
    "\n",
    "df_unidos = pd.read_csv(path + 'df_unidos.csv')\n"
   ]
  },
  {
   "cell_type": "code",
   "execution_count": 67,
   "metadata": {},
   "outputs": [
    {
     "name": "stdout",
     "output_type": "stream",
     "text": [
      "<class 'pandas.core.frame.DataFrame'>\n",
      "RangeIndex: 72 entries, 0 to 71\n",
      "Data columns (total 22 columns):\n",
      " #   Column                        Non-Null Count  Dtype  \n",
      "---  ------                        --------------  -----  \n",
      " 0   Unnamed: 0                    72 non-null     int64  \n",
      " 1   DatGeracaoConjuntoDados       72 non-null     object \n",
      " 2   NomAgente                     72 non-null     object \n",
      " 3   IdeEmpresaProponenteProjeto   72 non-null     int64  \n",
      " 4   DscCodProjeto                 72 non-null     object \n",
      " 5   DscTituloProjeto              72 non-null     object \n",
      " 6   DscTipologia                  72 non-null     object \n",
      " 7   VlrCustoTotal                 72 non-null     float64\n",
      " 8   VlrRcbGlobal                  37 non-null     float64\n",
      " 9   VlrEnergiaEconomizadaTotal    72 non-null     float64\n",
      " 10  VlrRetiradaDemandaPontaTotal  72 non-null     float64\n",
      " 11  DscObjetivo                   7 non-null      object \n",
      " 12  DscJustificativa              34 non-null     object \n",
      " 13  DatInicioProjeto              72 non-null     object \n",
      " 14  DatConclusaoProjeto           72 non-null     object \n",
      " 15  DscMetodologiaMv              7 non-null      object \n",
      " 16  Score                         72 non-null     float64\n",
      " 17  Address                       52 non-null     object \n",
      " 18  Latitude                      52 non-null     float64\n",
      " 19  Longitude                     52 non-null     float64\n",
      " 20  Estado                        72 non-null     object \n",
      " 21  Capital                       35 non-null     object \n",
      "dtypes: float64(7), int64(2), object(13)\n",
      "memory usage: 12.5+ KB\n"
     ]
    }
   ],
   "source": [
    "df_unidos.info()"
   ]
  }
 ],
 "metadata": {
  "kernelspec": {
   "display_name": "base",
   "language": "python",
   "name": "python3"
  },
  "language_info": {
   "codemirror_mode": {
    "name": "ipython",
    "version": 3
   },
   "file_extension": ".py",
   "mimetype": "text/x-python",
   "name": "python",
   "nbconvert_exporter": "python",
   "pygments_lexer": "ipython3",
   "version": "3.11.7"
  }
 },
 "nbformat": 4,
 "nbformat_minor": 2
}
